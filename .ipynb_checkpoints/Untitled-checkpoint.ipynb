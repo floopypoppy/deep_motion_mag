{
 "cells": [
  {
   "cell_type": "code",
   "execution_count": 1,
   "id": "84973f0d",
   "metadata": {},
   "outputs": [
    {
     "name": "stdout",
     "output_type": "stream",
     "text": [
      "WARNING:tensorflow:From C:\\Xuewen\\software\\Anaconda3\\envs\\tf\\lib\\site-packages\\tensorflow\\python\\compat\\v2_compat.py:101: disable_resource_variables (from tensorflow.python.ops.variable_scope) is deprecated and will be removed in a future version.\n",
      "Instructions for updating:\n",
      "non-resource variables are not supported in the long term\n"
     ]
    },
    {
     "data": {
      "text/plain": [
       "'2.6.0'"
      ]
     },
     "execution_count": 1,
     "metadata": {},
     "output_type": "execute_result"
    }
   ],
   "source": [
    "import tensorflow.compat.v1 as tf\n",
    "tf.disable_v2_behavior()\n",
    "tf.__version__"
   ]
  },
  {
   "cell_type": "code",
   "execution_count": 2,
   "id": "a43aabba",
   "metadata": {},
   "outputs": [],
   "source": [
    "from configobj import ConfigObj\n",
    "configspec = ConfigObj('configs/configspec.conf', raise_errors=True)\n",
    "train_config = ConfigObj('configs/o3f_hmhm2_bg_qnoise_mix4_nl_n_t_ds3.conf', configspec=configspec, raise_errors=True, file_error=True)"
   ]
  },
  {
   "cell_type": "code",
   "execution_count": 3,
   "id": "cc34277f",
   "metadata": {},
   "outputs": [
    {
     "name": "stdout",
     "output_type": "stream",
     "text": [
      "WARNING:tensorflow:From C:\\Users\\ff_is\\AppData\\Local\\Temp\\ipykernel_12488\\577675554.py:2: string_input_producer (from tensorflow.python.training.input) is deprecated and will be removed in a future version.\n",
      "Instructions for updating:\n",
      "Queue-based input pipelines have been replaced by `tf.data`. Use `tf.data.Dataset.from_tensor_slices(string_tensor).shuffle(tf.shape(input_tensor, out_type=tf.int64)[0]).repeat(num_epochs)`. If `shuffle=False`, omit the `.shuffle(...)`.\n",
      "WARNING:tensorflow:From C:\\Xuewen\\software\\Anaconda3\\envs\\tf\\lib\\site-packages\\tensorflow\\python\\training\\input.py:267: input_producer (from tensorflow.python.training.input) is deprecated and will be removed in a future version.\n",
      "Instructions for updating:\n",
      "Queue-based input pipelines have been replaced by `tf.data`. Use `tf.data.Dataset.from_tensor_slices(input_tensor).shuffle(tf.shape(input_tensor, out_type=tf.int64)[0]).repeat(num_epochs)`. If `shuffle=False`, omit the `.shuffle(...)`.\n",
      "WARNING:tensorflow:From C:\\Xuewen\\software\\Anaconda3\\envs\\tf\\lib\\site-packages\\tensorflow\\python\\training\\input.py:189: limit_epochs (from tensorflow.python.training.input) is deprecated and will be removed in a future version.\n",
      "Instructions for updating:\n",
      "Queue-based input pipelines have been replaced by `tf.data`. Use `tf.data.Dataset.from_tensors(tensor).repeat(num_epochs)`.\n",
      "WARNING:tensorflow:From C:\\Xuewen\\software\\Anaconda3\\envs\\tf\\lib\\site-packages\\tensorflow\\python\\training\\input.py:112: RefVariable.count_up_to (from tensorflow.python.ops.variables) is deprecated and will be removed in a future version.\n",
      "Instructions for updating:\n",
      "Prefer Dataset.range instead.\n",
      "WARNING:tensorflow:From C:\\Xuewen\\software\\Anaconda3\\envs\\tf\\lib\\site-packages\\tensorflow\\python\\ops\\variables.py:2580: count_up_to (from tensorflow.python.ops.state_ops) is deprecated and will be removed in a future version.\n",
      "Instructions for updating:\n",
      "Prefer Dataset.range instead.\n",
      "WARNING:tensorflow:From C:\\Xuewen\\software\\Anaconda3\\envs\\tf\\lib\\site-packages\\tensorflow\\python\\training\\input.py:197: QueueRunner.__init__ (from tensorflow.python.training.queue_runner_impl) is deprecated and will be removed in a future version.\n",
      "Instructions for updating:\n",
      "To construct input pipelines, use the `tf.data` module.\n",
      "WARNING:tensorflow:From C:\\Xuewen\\software\\Anaconda3\\envs\\tf\\lib\\site-packages\\tensorflow\\python\\training\\input.py:196: add_queue_runner (from tensorflow.python.training.queue_runner_impl) is deprecated and will be removed in a future version.\n",
      "Instructions for updating:\n",
      "To construct input pipelines, use the `tf.data` module.\n"
     ]
    }
   ],
   "source": [
    "import os\n",
    "filename_queue = tf.train.string_input_producer(\n",
    "                            [os.path.join(train_config[\"training\"][\"dataset_dir\"],\n",
    "                                          'train.tfrecords')],\n",
    "                            num_epochs=int(train_config[\"training\"][\"num_epochs\"]))"
   ]
  },
  {
   "cell_type": "code",
   "execution_count": 4,
   "id": "07ee7057",
   "metadata": {},
   "outputs": [
    {
     "name": "stdout",
     "output_type": "stream",
     "text": [
      "WARNING:tensorflow:From C:\\Users\\ff_is\\Documents\\GitHub\\deep_motion_mag\\data_loader.py:44: TFRecordReader.__init__ (from tensorflow.python.ops.io_ops) is deprecated and will be removed in a future version.\n",
      "Instructions for updating:\n",
      "Queue-based input pipelines have been replaced by `tf.data`. Use `tf.data.TFRecordDataset`.\n",
      "WARNING:tensorflow:From C:\\Users\\ff_is\\Documents\\GitHub\\deep_motion_mag\\data_loader.py:67: to_float (from tensorflow.python.ops.math_ops) is deprecated and will be removed in a future version.\n",
      "Instructions for updating:\n",
      "Use `tf.cast` instead.\n"
     ]
    }
   ],
   "source": [
    "from data_loader import read_and_decode_3frames\n",
    "frameA, frameB, frameC, frameAmp, amplification_factor = \\\n",
    "            read_and_decode_3frames(filename_queue,\n",
    "                                    (int(train_config[\"training\"][\"image_height\"]),\n",
    "                                     int(train_config[\"training\"][\"image_width\"]),\n",
    "                                     3))"
   ]
  },
  {
   "cell_type": "code",
   "execution_count": 5,
   "id": "6d046238",
   "metadata": {},
   "outputs": [
    {
     "name": "stdout",
     "output_type": "stream",
     "text": [
      "WARNING:tensorflow:From C:\\Users\\ff_is\\AppData\\Local\\Temp\\ipykernel_12488\\1212617163.py:7: shuffle_batch (from tensorflow.python.training.input) is deprecated and will be removed in a future version.\n",
      "Instructions for updating:\n",
      "Queue-based input pipelines have been replaced by `tf.data`. Use `tf.data.Dataset.shuffle(min_after_dequeue).batch(batch_size)`.\n"
     ]
    }
   ],
   "source": [
    "min_after_dequeue = 1000\n",
    "num_threads = 16\n",
    "capacity = min_after_dequeue + \\\n",
    "    (num_threads + 2) * int(train_config[\"training\"][\"batch_size\"])\n",
    "\n",
    "frameA, frameB, frameC, frameAmp, amplification_factor = \\\n",
    "    tf.train.shuffle_batch([frameA,\n",
    "                            frameB,\n",
    "                            frameC,\n",
    "                            frameAmp,\n",
    "                            amplification_factor],\n",
    "                           batch_size=int(train_config[\"training\"][\"batch_size\"]),\n",
    "                           capacity=capacity,\n",
    "                           num_threads=num_threads,\n",
    "                           min_after_dequeue=min_after_dequeue)"
   ]
  },
  {
   "cell_type": "code",
   "execution_count": 6,
   "id": "64a01d11",
   "metadata": {},
   "outputs": [
    {
     "data": {
      "text/plain": [
       "<tf.Tensor 'shuffle_batch:0' shape=(4, 384, 384, 3) dtype=float32>"
      ]
     },
     "execution_count": 6,
     "metadata": {},
     "output_type": "execute_result"
    }
   ],
   "source": [
    "frameA"
   ]
  },
  {
   "cell_type": "code",
   "execution_count": null,
   "id": "8470b213",
   "metadata": {},
   "outputs": [],
   "source": []
  }
 ],
 "metadata": {
  "kernelspec": {
   "display_name": "Python [conda env:tf] *",
   "language": "python",
   "name": "conda-env-tf-py"
  },
  "language_info": {
   "codemirror_mode": {
    "name": "ipython",
    "version": 3
   },
   "file_extension": ".py",
   "mimetype": "text/x-python",
   "name": "python",
   "nbconvert_exporter": "python",
   "pygments_lexer": "ipython3",
   "version": "3.9.12"
  }
 },
 "nbformat": 4,
 "nbformat_minor": 5
}
